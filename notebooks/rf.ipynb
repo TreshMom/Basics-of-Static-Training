{
 "cells": [
  {
   "cell_type": "code",
   "execution_count": 1,
   "metadata": {},
   "outputs": [],
   "source": [
    "import pandas as pd\n",
    "from sklearn.impute import SimpleImputer\n",
    "from sklearn.ensemble import RandomForestClassifier\n",
    "from sklearn.metrics import accuracy_score"
   ]
  },
  {
   "cell_type": "code",
   "execution_count": 7,
   "metadata": {},
   "outputs": [],
   "source": [
    "train_data = pd.read_csv('/Users/pahan/Desktop/Basics-of-Static-Training/data/train.csv')\n",
    "test_data = pd.read_csv('/Users/pahan/Desktop/Basics-of-Static-Training/data/test.csv')\n",
    "gender_submission = pd.read_csv('/Users/pahan/Desktop/Basics-of-Static-Training/data/gender_submission.csv')"
   ]
  },
  {
   "cell_type": "code",
   "execution_count": 2,
   "metadata": {},
   "outputs": [],
   "source": [
    "train_data['Sex'] = train_data['Sex'].map({'male': 0, 'female': 1})\n",
    "test_data['Sex'] = test_data['Sex'].map({'male': 0, 'female': 1})\n",
    "\n",
    "train_data['Embarked'] = train_data['Embarked'].map({'C': 0, 'Q': 1, 'S': 2})\n",
    "test_data['Embarked'] = test_data['Embarked'].map({'C': 0, 'Q': 1, 'S': 2})\n",
    "\n",
    "X_train = train_data[['Pclass', 'Age', 'Fare', 'Sex', 'Embarked']]\n",
    "X_test = test_data[['Pclass', 'Age', 'Fare', 'Sex', 'Embarked']]\n",
    "\n",
    "imputer = SimpleImputer(strategy='mean')\n",
    "X_train = imputer.fit_transform(X_train)\n",
    "X_test = imputer.transform(X_test)\n"
   ]
  },
  {
   "cell_type": "code",
   "execution_count": 3,
   "metadata": {},
   "outputs": [],
   "source": [
    "y_train = train_data['Survived']"
   ]
  },
  {
   "cell_type": "code",
   "execution_count": 4,
   "metadata": {},
   "outputs": [],
   "source": [
    "model = RandomForestClassifier(n_estimators=100, random_state=42)\n",
    "model.fit(X_train, y_train)\n",
    "y_pred = model.predict(X_test)"
   ]
  },
  {
   "cell_type": "code",
   "execution_count": 8,
   "metadata": {},
   "outputs": [
    {
     "name": "stdout",
     "output_type": "stream",
     "text": [
      "Accuracy: 0.8444976076555024\n"
     ]
    }
   ],
   "source": [
    "test_data = test_data.merge(gender_submission, on='PassengerId', how='left')\n",
    "y_test = test_data['Survived'] \n",
    "\n",
    "accuracy = accuracy_score(y_test, y_pred)\n",
    "print(\"Accuracy:\", accuracy)"
   ]
  },
  {
   "cell_type": "code",
   "execution_count": 5,
   "metadata": {},
   "outputs": [],
   "source": [
    "test_data['Survived'] = y_pred\n",
    "test_data.to_csv('/Users/pahan/Desktop/Basics-of-Static-Training/data/random_forest_predictions.csv', index=False)"
   ]
  },
  {
   "cell_type": "code",
   "execution_count": 9,
   "metadata": {},
   "outputs": [
    {
     "data": {
      "text/plain": [
       "['/Users/pahan/Desktop/Basics-of-Static-Training/models/random_forest_model.pkl']"
      ]
     },
     "execution_count": 9,
     "metadata": {},
     "output_type": "execute_result"
    }
   ],
   "source": [
    "import joblib\n",
    "\n",
    "joblib.dump(model, '/Users/pahan/Desktop/Basics-of-Static-Training/models/random_forest_model.pkl')\n"
   ]
  }
 ],
 "metadata": {
  "kernelspec": {
   "display_name": ".venv",
   "language": "python",
   "name": "python3"
  },
  "language_info": {
   "codemirror_mode": {
    "name": "ipython",
    "version": 3
   },
   "file_extension": ".py",
   "mimetype": "text/x-python",
   "name": "python",
   "nbconvert_exporter": "python",
   "pygments_lexer": "ipython3",
   "version": "3.12.8"
  }
 },
 "nbformat": 4,
 "nbformat_minor": 2
}
